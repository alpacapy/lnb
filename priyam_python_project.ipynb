{
  "metadata": {
    "language_info": {
      "name": ""
    },
    "kernelspec": {
      "name": "python",
      "display_name": "Python (Pyodide)",
      "language": "python"
    },
    "colab": {
      "provenance": []
    }
  },
  "nbformat_minor": 0,
  "nbformat": 4,
  "cells": [
    {
      "cell_type": "code",
      "source": [
        "class student:\n",
        "    def __init__(self,List):\n",
        "        self.name=input(\"Name: \")\n",
        "        while 1:\n",
        "            rno=int(input(\"Roll no.: \"))\n",
        "            if findrollno(List,rno):\n",
        "                print(\"Roll no. already exists. Try again\")\n",
        "            else:\n",
        "                self.rollno=rno\n",
        "                break\n",
        "        self.marks1=int(input(\"Marks in subject 1: \"))\n",
        "        self.marks2=int(input(\"Marks in subject 2: \"))"
      ],
      "metadata": {
        "trusted": true,
        "id": "GwQ7HmZOXNXl"
      },
      "execution_count": 1,
      "outputs": []
    },
    {
      "cell_type": "code",
      "source": [
        "def findrollno(List,rno):\n",
        "    for i in List:\n",
        "        if i.rollno==rno:\n",
        "            return True\n",
        "    return False"
      ],
      "metadata": {
        "trusted": true,
        "id": "JK69XS98XNXn"
      },
      "execution_count": 2,
      "outputs": []
    },
    {
      "cell_type": "code",
      "source": [
        "def display(Student):\n",
        "    print(\"Name: \",Student.name)\n",
        "    print(\"Roll no.: \",Student.rollno)\n",
        "    print(\"Marks in subject 1: \",Student.marks1)\n",
        "    print(\"Marks in subject 2: \",Student.marks2)\n",
        "    print(\"\\n\")"
      ],
      "metadata": {
        "trusted": true,
        "id": "keig6bWKXNXo"
      },
      "execution_count": 3,
      "outputs": []
    },
    {
      "cell_type": "code",
      "source": [
        "def accept(List):\n",
        "    temp=student(List)\n",
        "    List.append(temp)\n",
        "    print(\"\\nStudent added.\")"
      ],
      "metadata": {
        "trusted": true,
        "id": "xfjDjIHqXNXo"
      },
      "execution_count": 4,
      "outputs": []
    },
    {
      "cell_type": "code",
      "source": [
        "def displayall(List):\n",
        "\n",
        "    if len(List)==0:\n",
        "        print(\"\\n\\nNo students found.\")\n",
        "        return\n",
        "\n",
        "    print(\"\\n\\nAll students' details: \\n\")\n",
        "\n",
        "    for i in List:\n",
        "        display(i)"
      ],
      "metadata": {
        "trusted": true,
        "id": "hwfMQ0PSXNXo"
      },
      "execution_count": 5,
      "outputs": []
    },
    {
      "cell_type": "code",
      "source": [
        "def search(List):\n",
        "    rno=int(input(\"\\n\\nEnter roll no. to search for: \"))\n",
        "    for i in List:\n",
        "        if i.rollno==rno:\n",
        "            print(\"\\nStudent found.\\n\")\n",
        "            display(i)\n",
        "            return\n",
        "    print(\"\\nStudent not found.\\n\")"
      ],
      "metadata": {
        "trusted": true,
        "id": "1aIX7BO3XNXp"
      },
      "execution_count": 6,
      "outputs": []
    },
    {
      "cell_type": "code",
      "source": [
        "def delete(List):\n",
        "    rno=int(input(\"\\n\\nEnter roll no. of the student you want to delete: \"))\n",
        "    for i in range(len(List)):\n",
        "        if List[i].rollno==rno:\n",
        "            print(\"\\nStudent found.\\n\")\n",
        "            display(List[i])\n",
        "            List.pop(i)\n",
        "            print(\"Student deleted.\\n\")\n",
        "            return\n",
        "    print(\"\\nStudent not found.\\n\")"
      ],
      "metadata": {
        "trusted": true,
        "id": "T6MzH5zfXNXp"
      },
      "execution_count": 7,
      "outputs": []
    },
    {
      "cell_type": "code",
      "source": [
        "studentlist=list()"
      ],
      "metadata": {
        "trusted": true,
        "id": "lBWf0S08XNXp"
      },
      "execution_count": 8,
      "outputs": []
    },
    {
      "cell_type": "code",
      "source": [
        "while 1:\n",
        "    print(\"\\n1. Add student\\t2. Display all\\n3. Search\\t4. Delete student\\n5. Exit\\n\\n\")\n",
        "    choice=int(input(\"Enter choice: \"))\n",
        "\n",
        "    if choice==1:\n",
        "        accept(studentlist)\n",
        "    elif choice==2:\n",
        "        displayall(studentlist)\n",
        "    elif choice==3:\n",
        "        search(studentlist)\n",
        "    elif choice==4:\n",
        "        delete(studentlist)\n",
        "    else:\n",
        "        print(\"Thank you!\")\n",
        "        break"
      ],
      "metadata": {
        "trusted": true,
        "colab": {
          "base_uri": "https://localhost:8080/"
        },
        "id": "fMjKousWXNXq",
        "outputId": "1c477ea6-0eb1-4d86-981d-bc0a0a72a17a"
      },
      "execution_count": 9,
      "outputs": [
        {
          "output_type": "stream",
          "name": "stdout",
          "text": [
            "\n",
            "1. Add student\t2. Display all\n",
            "3. Search\t4. Delete student\n",
            "5. Exit\n",
            "\n",
            "\n",
            "Enter choice: 1\n",
            "Name: Priyam\n",
            "Roll no.: 11\n",
            "Marks in subject 1: 90\n",
            "Marks in subject 2: 88\n",
            "\n",
            "Student added.\n",
            "\n",
            "1. Add student\t2. Display all\n",
            "3. Search\t4. Delete student\n",
            "5. Exit\n",
            "\n",
            "\n",
            "Enter choice: 1\n",
            "Name: Isha\n",
            "Roll no.: 11\n",
            "Roll no. already exists. Try again\n",
            "Roll no.: 15\n",
            "Marks in subject 1: 77\n",
            "Marks in subject 2: 100\n",
            "\n",
            "Student added.\n",
            "\n",
            "1. Add student\t2. Display all\n",
            "3. Search\t4. Delete student\n",
            "5. Exit\n",
            "\n",
            "\n",
            "Enter choice: 2\n",
            "\n",
            "\n",
            "All students' details: \n",
            "\n",
            "Name:  Priyam\n",
            "Roll no.:  11\n",
            "Marks in subject 1:  90\n",
            "Marks in subject 2:  88\n",
            "\n",
            "\n",
            "Name:  Isha\n",
            "Roll no.:  15\n",
            "Marks in subject 1:  77\n",
            "Marks in subject 2:  100\n",
            "\n",
            "\n",
            "\n",
            "1. Add student\t2. Display all\n",
            "3. Search\t4. Delete student\n",
            "5. Exit\n",
            "\n",
            "\n",
            "Enter choice: 3\n",
            "\n",
            "\n",
            "Enter roll no. to search for: 1\n",
            "\n",
            "Student not found.\n",
            "\n",
            "\n",
            "1. Add student\t2. Display all\n",
            "3. Search\t4. Delete student\n",
            "5. Exit\n",
            "\n",
            "\n",
            "Enter choice: 3\n",
            "\n",
            "\n",
            "Enter roll no. to search for: 11\n",
            "\n",
            "Student found.\n",
            "\n",
            "Name:  Priyam\n",
            "Roll no.:  11\n",
            "Marks in subject 1:  90\n",
            "Marks in subject 2:  88\n",
            "\n",
            "\n",
            "\n",
            "1. Add student\t2. Display all\n",
            "3. Search\t4. Delete student\n",
            "5. Exit\n",
            "\n",
            "\n",
            "Enter choice: 4\n",
            "\n",
            "\n",
            "Enter roll no. of the student you want to delete: 11\n",
            "\n",
            "Student found.\n",
            "\n",
            "Name:  Priyam\n",
            "Roll no.:  11\n",
            "Marks in subject 1:  90\n",
            "Marks in subject 2:  88\n",
            "\n",
            "\n",
            "Student deleted.\n",
            "\n",
            "\n",
            "1. Add student\t2. Display all\n",
            "3. Search\t4. Delete student\n",
            "5. Exit\n",
            "\n",
            "\n",
            "Enter choice: 4\n",
            "\n",
            "\n",
            "Enter roll no. of the student you want to delete: 5\n",
            "\n",
            "Student not found.\n",
            "\n",
            "\n",
            "1. Add student\t2. Display all\n",
            "3. Search\t4. Delete student\n",
            "5. Exit\n",
            "\n",
            "\n",
            "Enter choice: 2\n",
            "\n",
            "\n",
            "All students' details: \n",
            "\n",
            "Name:  Isha\n",
            "Roll no.:  15\n",
            "Marks in subject 1:  77\n",
            "Marks in subject 2:  100\n",
            "\n",
            "\n",
            "\n",
            "1. Add student\t2. Display all\n",
            "3. Search\t4. Delete student\n",
            "5. Exit\n",
            "\n",
            "\n",
            "Enter choice: 5\n",
            "Thank you!\n"
          ]
        }
      ]
    }
  ]
}