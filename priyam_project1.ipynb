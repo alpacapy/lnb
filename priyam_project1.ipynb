{
  "metadata": {
    "language_info": {
      "name": ""
    },
    "kernelspec": {
      "name": "python",
      "display_name": "Python (Pyodide)",
      "language": "python"
    }
  },
  "nbformat_minor": 4,
  "nbformat": 4,
  "cells": [
    {
      "cell_type": "code",
      "source": "def __init__(self,List):\n      self.name=input(\"Name: \")\n      while 1:\n          rno=int(input(\"Roll no.: \"))\n          if findrollno(List,rno):\n              print(\"Roll no. already exists. Try again\")\n          else:\n              self.rollno=rno\n              break\n      self.marks1=int(input(\"Marks in subject 1: \"))\n      self.marks2=int(input(\"Marks in subject 2: \"))",
      "metadata": {
        "trusted": true
      },
      "execution_count": null,
      "outputs": []
    },
    {
      "cell_type": "code",
      "source": "def findrollno(List,rno):\n    for i in List:\n        if i.rollno==rno:\n            return True\n    return False",
      "metadata": {
        "trusted": true
      },
      "execution_count": null,
      "outputs": []
    },
    {
      "cell_type": "code",
      "source": "def display(Student):\n    print(\"Name: \",Student.name)\n    print(\"Roll no.: \",Student.rollno)\n    print(\"Marks in subject 1: \",Student.marks1)\n    print(\"Marks in subject 2: \",Student.marks2)\n    print(\"\\n\")",
      "metadata": {
        "trusted": true
      },
      "execution_count": null,
      "outputs": []
    },
    {
      "cell_type": "code",
      "source": "def accept(List):\n    temp=student(List)\n    List.append(temp)",
      "metadata": {
        "trusted": true
      },
      "execution_count": null,
      "outputs": []
    },
    {
      "cell_type": "code",
      "source": "def displayall(List):\n    \n    if len(List)==0:\n        print(\"\\n\\nNo students found.\")\n        return\n    \n    print(\"\\n\\nAll students' details: \\n\")\n    \n    for i in List:\n        display(i)",
      "metadata": {
        "trusted": true
      },
      "execution_count": null,
      "outputs": []
    },
    {
      "cell_type": "code",
      "source": "def search(List):\n    rno=int(input(\"\\n\\nEnter roll no. to search for: \"))\n    for i in List:\n        if i.rollno==rno:\n            print(\"\\nStudent found.\\n\")\n            display(i)\n            return\n    print(\"\\nStudent not found.\\n\")",
      "metadata": {
        "trusted": true
      },
      "execution_count": null,
      "outputs": []
    },
    {
      "cell_type": "code",
      "source": "def delete(List):\n    rno=int(input(\"\\n\\nEnter roll no. of the student you want to delete: \"))\n    for i in range(len(List)):\n        if List[i].rollno==rno:\n            print(\"\\nStudent found.\\n\")\n            display(List[i])\n            List.pop(i)\n            print(\"Student deleted.\\n\")\n            return\n    print(\"\\nStudent not found.\\n\")",
      "metadata": {
        "trusted": true
      },
      "execution_count": null,
      "outputs": []
    },
    {
      "cell_type": "code",
      "source": "studentlist=list()",
      "metadata": {
        "trusted": true
      },
      "execution_count": null,
      "outputs": []
    },
    {
      "cell_type": "code",
      "source": "while 1:\n    print(\"\\n1. Add student\\t2. Display all\\n3. Search\\t4. Delete student\\n5. Exit\\n\\n\")\n    choice=int(input(\"Enter choice: \"))\n    \n    if choice==1:\n        accept(studentlist)\n    elif choice==2:\n        displayall(studentlist)\n    elif choice==3:\n        search(studentlist)\n    elif choice==4:\n        delete(studentlist)\n    else:\n        print(\"Thank you!\")\n        break",
      "metadata": {
        "trusted": true
      },
      "execution_count": null,
      "outputs": []
    }
  ]
}